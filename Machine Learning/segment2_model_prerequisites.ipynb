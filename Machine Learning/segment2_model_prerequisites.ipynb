{
 "cells": [
  {
   "cell_type": "code",
   "execution_count": 3,
   "metadata": {
    "colab": {
     "base_uri": "https://localhost:8080/",
     "height": 623
    },
    "id": "oGP_Muyfv8ol",
    "outputId": "fb1ad04f-5790-47fa-caab-0023e8644cba"
   },
   "outputs": [
    {
     "name": "stdout",
     "output_type": "stream",
     "text": [
      "Percentage of total Bitstamp data lost due to dropping rows with NaN values: 27.14%\n",
      "Ratio of Bitstamp rows dropped: 1,240,496/4,571,033\n",
      "Total dataset contains 3174.33 days worth of data. Due to data loss, we had to drop 861.46 days worth of data\n",
      "timestamp                 int64\n",
      "high                    float64\n",
      "low                     float64\n",
      "volume                  float64\n",
      "weightedPrice           float64\n",
      "timestampSTR             object\n",
      "timestampINT              int32\n",
      "timeUTC          datetime64[ns]\n",
      "dtype: object\n"
     ]
    },
    {
     "data": {
      "text/html": [
       "<div>\n",
       "<style scoped>\n",
       "    .dataframe tbody tr th:only-of-type {\n",
       "        vertical-align: middle;\n",
       "    }\n",
       "\n",
       "    .dataframe tbody tr th {\n",
       "        vertical-align: top;\n",
       "    }\n",
       "\n",
       "    .dataframe thead th {\n",
       "        text-align: right;\n",
       "    }\n",
       "</style>\n",
       "<table border=\"1\" class=\"dataframe\">\n",
       "  <thead>\n",
       "    <tr style=\"text-align: right;\">\n",
       "      <th></th>\n",
       "      <th>timestamp</th>\n",
       "      <th>high</th>\n",
       "      <th>low</th>\n",
       "      <th>volume</th>\n",
       "      <th>weightedPrice</th>\n",
       "      <th>timestampSTR</th>\n",
       "      <th>timestampINT</th>\n",
       "      <th>timeUTC</th>\n",
       "    </tr>\n",
       "  </thead>\n",
       "  <tbody>\n",
       "    <tr>\n",
       "      <th>0</th>\n",
       "      <td>1325391360</td>\n",
       "      <td>4.58</td>\n",
       "      <td>4.58</td>\n",
       "      <td>1.502000</td>\n",
       "      <td>4.580000</td>\n",
       "      <td>1325391360</td>\n",
       "      <td>1325391360</td>\n",
       "      <td>2012-01-01 04:16:00</td>\n",
       "    </tr>\n",
       "    <tr>\n",
       "      <th>1</th>\n",
       "      <td>1325431680</td>\n",
       "      <td>4.84</td>\n",
       "      <td>4.84</td>\n",
       "      <td>10.000000</td>\n",
       "      <td>4.840000</td>\n",
       "      <td>1325431680</td>\n",
       "      <td>1325431680</td>\n",
       "      <td>2012-01-01 15:28:00</td>\n",
       "    </tr>\n",
       "    <tr>\n",
       "      <th>2</th>\n",
       "      <td>1325457900</td>\n",
       "      <td>5.00</td>\n",
       "      <td>5.00</td>\n",
       "      <td>10.100000</td>\n",
       "      <td>5.000000</td>\n",
       "      <td>1325457900</td>\n",
       "      <td>1325457900</td>\n",
       "      <td>2012-01-01 22:45:00</td>\n",
       "    </tr>\n",
       "    <tr>\n",
       "      <th>3</th>\n",
       "      <td>1325534640</td>\n",
       "      <td>5.00</td>\n",
       "      <td>5.00</td>\n",
       "      <td>19.048000</td>\n",
       "      <td>5.000000</td>\n",
       "      <td>1325534640</td>\n",
       "      <td>1325534640</td>\n",
       "      <td>2012-01-02 20:04:00</td>\n",
       "    </tr>\n",
       "    <tr>\n",
       "      <th>4</th>\n",
       "      <td>1325591100</td>\n",
       "      <td>5.32</td>\n",
       "      <td>5.32</td>\n",
       "      <td>2.419173</td>\n",
       "      <td>5.320000</td>\n",
       "      <td>1325591100</td>\n",
       "      <td>1325591100</td>\n",
       "      <td>2012-01-03 11:45:00</td>\n",
       "    </tr>\n",
       "    <tr>\n",
       "      <th>...</th>\n",
       "      <td>...</td>\n",
       "      <td>...</td>\n",
       "      <td>...</td>\n",
       "      <td>...</td>\n",
       "      <td>...</td>\n",
       "      <td>...</td>\n",
       "      <td>...</td>\n",
       "      <td>...</td>\n",
       "    </tr>\n",
       "    <tr>\n",
       "      <th>3330532</th>\n",
       "      <td>1600041360</td>\n",
       "      <td>10325.89</td>\n",
       "      <td>10324.35</td>\n",
       "      <td>0.081143</td>\n",
       "      <td>10324.419779</td>\n",
       "      <td>1600041360</td>\n",
       "      <td>1600041360</td>\n",
       "      <td>2020-09-13 23:56:00</td>\n",
       "    </tr>\n",
       "    <tr>\n",
       "      <th>3330533</th>\n",
       "      <td>1600041420</td>\n",
       "      <td>10331.97</td>\n",
       "      <td>10326.68</td>\n",
       "      <td>0.572817</td>\n",
       "      <td>10331.444396</td>\n",
       "      <td>1600041420</td>\n",
       "      <td>1600041420</td>\n",
       "      <td>2020-09-13 23:57:00</td>\n",
       "    </tr>\n",
       "    <tr>\n",
       "      <th>3330534</th>\n",
       "      <td>1600041480</td>\n",
       "      <td>10331.47</td>\n",
       "      <td>10321.33</td>\n",
       "      <td>2.489909</td>\n",
       "      <td>10326.175283</td>\n",
       "      <td>1600041480</td>\n",
       "      <td>1600041480</td>\n",
       "      <td>2020-09-13 23:58:00</td>\n",
       "    </tr>\n",
       "    <tr>\n",
       "      <th>3330535</th>\n",
       "      <td>1600041540</td>\n",
       "      <td>10334.78</td>\n",
       "      <td>10328.64</td>\n",
       "      <td>4.572660</td>\n",
       "      <td>10333.972651</td>\n",
       "      <td>1600041540</td>\n",
       "      <td>1600041540</td>\n",
       "      <td>2020-09-13 23:59:00</td>\n",
       "    </tr>\n",
       "    <tr>\n",
       "      <th>3330536</th>\n",
       "      <td>1600041600</td>\n",
       "      <td>10338.82</td>\n",
       "      <td>10332.37</td>\n",
       "      <td>1.292006</td>\n",
       "      <td>10332.429402</td>\n",
       "      <td>1600041600</td>\n",
       "      <td>1600041600</td>\n",
       "      <td>2020-09-14 00:00:00</td>\n",
       "    </tr>\n",
       "  </tbody>\n",
       "</table>\n",
       "<p>3330537 rows × 8 columns</p>\n",
       "</div>"
      ],
      "text/plain": [
       "          timestamp      high  ...  timestampINT             timeUTC\n",
       "0        1325391360      4.58  ...    1325391360 2012-01-01 04:16:00\n",
       "1        1325431680      4.84  ...    1325431680 2012-01-01 15:28:00\n",
       "2        1325457900      5.00  ...    1325457900 2012-01-01 22:45:00\n",
       "3        1325534640      5.00  ...    1325534640 2012-01-02 20:04:00\n",
       "4        1325591100      5.32  ...    1325591100 2012-01-03 11:45:00\n",
       "...             ...       ...  ...           ...                 ...\n",
       "3330532  1600041360  10325.89  ...    1600041360 2020-09-13 23:56:00\n",
       "3330533  1600041420  10331.97  ...    1600041420 2020-09-13 23:57:00\n",
       "3330534  1600041480  10331.47  ...    1600041480 2020-09-13 23:58:00\n",
       "3330535  1600041540  10334.78  ...    1600041540 2020-09-13 23:59:00\n",
       "3330536  1600041600  10338.82  ...    1600041600 2020-09-14 00:00:00\n",
       "\n",
       "[3330537 rows x 8 columns]"
      ]
     },
     "execution_count": 3,
     "metadata": {
      "tags": []
     },
     "output_type": "execute_result"
    }
   ],
   "source": [
    "# Import dependencies\n",
    "import pandas as pd\n",
    "import datetime\n",
    "import time\n",
    "#from sqlalchemy import create_engine\n",
    "#from config import db_password\n",
    "\n",
    "# Read in files\n",
    "df = pd.read_csv('/content/btc_data.csv')\n",
    "\n",
    "# Display initial data\n",
    "df.head(10)\n",
    "\n",
    "# keep timestamp, high, low, weighted_price\n",
    "df = df[['Timestamp', 'High', 'Low', 'Volume_(BTC)', 'Weighted_Price']].reset_index(drop=True)\n",
    "\n",
    "# preprocessing notes-- consider omitting data prior to Jan 1st, 2012 due to higher volatility \n",
    "# earlier in bitcoin's lifecycle\n",
    "\n",
    "# converting Timestamp column to str datatype\n",
    "df['str_timestamp'] = [str(timestamp) for timestamp in df['Timestamp']]\n",
    "df['int_timestamp'] = df['str_timestamp'].astype('int32', copy=True)\n",
    "\n",
    "# filtering df to only include rows after 01/01/2012\n",
    "df_cleaned_filtered = df.loc[df['int_timestamp'] >= 1325391360]\n",
    "df_cleaned_filtered.head(2)\n",
    "\n",
    "# context manager to suppress 1 time SettingWithCopyWarning; alternatively call .loc after timestamp conversion to avoid error\n",
    "pd.reset_option('mode.chained_assignment')\n",
    "with pd.option_context('mode.chained_assignment', None):\n",
    "    df_cleaned_filtered['UTC_time'] = df_cleaned_filtered['int_timestamp'].apply(lambda x: datetime.datetime.utcfromtimestamp(x))\n",
    "\n",
    "# dropping all null values, followed by evaluation of which time periods had the greatest data loss\n",
    "final_df = df_cleaned_filtered.dropna().reset_index(drop=True)\n",
    "\n",
    "# finding percentage of data loss (null values)\n",
    "btotalLength = (len(df_cleaned_filtered))\n",
    "bpartialLength = (len(final_df))\n",
    "bValuesDropped = btotalLength - bpartialLength\n",
    "bitstampDiff = (btotalLength - bpartialLength) / btotalLength * 100 \n",
    "totalDays = round(btotalLength/1440,2)\n",
    "daysDropped = round(bValuesDropped/1440,2)\n",
    "\n",
    "print(f\"Percentage of total Bitstamp data lost due to dropping rows with NaN values: {bitstampDiff:.2f}%\")\n",
    "print(f\"Ratio of Bitstamp rows dropped: {bValuesDropped:,}/{btotalLength:,}\")\n",
    "print(f\"Total dataset contains {totalDays} days worth of data. Due to data loss, we had to drop {daysDropped} days worth of data\")\n",
    "\n",
    "# Machine learning section\n",
    "# possible implementation ideas:\n",
    "# 1. time series forecasting bitcoin price with ARIMA(Auto Regressive Integrated Moving Average)\n",
    "# Rational for using time series: the 4 components of time series are trends, seasonality (consistent trends that span 1 calender year), noise/irregularity, and cyclicity(trends that can be observed in <1 or >1 year); this is perfect for tradeable assets \n",
    "# Qualifying criteria: the dataset must be stationary in order to more accurately fit a time series model. Stationary means that there should be a constant mean with constant std deviation or variance\n",
    "# We can test if a time series is stationary by plotting the moving avg and/or movning std dev. to see if it changes over time. These results can be supported with an ADCF test\n",
    "# if testing reveals our time series is NOT stationary, we can perform a variety of transformations to change it (log transform, sq rt, exponential decay etc..)\n",
    "# SARIMA is ARIMA with a seasonality component. \n",
    "\n",
    "\n",
    "# ### PGAdmin SQL Schema\n",
    "# db schema thoughts: can create multiple tables for each currency (1 for btc, 1 ethereum, 1 xrp)\n",
    "# can also add in additional tables down the line to support our analysis (table with google analytics, table with twitter search results for sentiment analysis)\n",
    "\n",
    "final_df.head(5)\n",
    "\n",
    "# Rename columns to be sql friendly\n",
    "final_df.rename({'Timestamp':'timestamp',\n",
    "                  'High':'high',\n",
    "                  'Low':'low',\n",
    "                  'Volume_(BTC)':'volume',\n",
    "                  'Weighted_Price':'weightedPrice',\n",
    "                  'str_timestamp':'timestampSTR',\n",
    "                  'int_timestamp':'timestampINT',\n",
    "                  'UTC_time':'timeUTC',\n",
    "                  'time_delta':'timeDelta'\n",
    "                 }, axis='columns', inplace=True)\n",
    "\n",
    "\n",
    "# Checking datatypes\n",
    "print(final_df.dtypes)\n",
    "final_df"
   ]
  },
  {
   "cell_type": "code",
   "execution_count": 4,
   "metadata": {
    "colab": {
     "base_uri": "https://localhost:8080/",
     "height": 518
    },
    "id": "2u8RIXaLWzPD",
    "outputId": "7ee59d9d-beb3-4ab3-eb06-2287cf15e370"
   },
   "outputs": [
    {
     "name": "stdout",
     "output_type": "stream",
     "text": [
      "3330537\n",
      "3330537\n",
      "3177\n",
      "Index(['timestamp', 'high', 'low', 'volume', 'weightedPrice', 'timestampINT'], dtype='object')\n"
     ]
    },
    {
     "data": {
      "text/html": [
       "<div>\n",
       "<style scoped>\n",
       "    .dataframe tbody tr th:only-of-type {\n",
       "        vertical-align: middle;\n",
       "    }\n",
       "\n",
       "    .dataframe tbody tr th {\n",
       "        vertical-align: top;\n",
       "    }\n",
       "\n",
       "    .dataframe thead th {\n",
       "        text-align: right;\n",
       "    }\n",
       "</style>\n",
       "<table border=\"1\" class=\"dataframe\">\n",
       "  <thead>\n",
       "    <tr style=\"text-align: right;\">\n",
       "      <th></th>\n",
       "      <th>timestamp</th>\n",
       "      <th>high</th>\n",
       "      <th>low</th>\n",
       "      <th>volume</th>\n",
       "      <th>weightedPrice</th>\n",
       "      <th>timestampINT</th>\n",
       "    </tr>\n",
       "    <tr>\n",
       "      <th>normalised_date</th>\n",
       "      <th></th>\n",
       "      <th></th>\n",
       "      <th></th>\n",
       "      <th></th>\n",
       "      <th></th>\n",
       "      <th></th>\n",
       "    </tr>\n",
       "  </thead>\n",
       "  <tbody>\n",
       "    <tr>\n",
       "      <th>2012-01-01</th>\n",
       "      <td>1.325427e+09</td>\n",
       "      <td>4.806667</td>\n",
       "      <td>4.806667</td>\n",
       "      <td>7.200667</td>\n",
       "      <td>4.806667</td>\n",
       "      <td>1.325427e+09</td>\n",
       "    </tr>\n",
       "    <tr>\n",
       "      <th>2012-01-02</th>\n",
       "      <td>1.325535e+09</td>\n",
       "      <td>5.000000</td>\n",
       "      <td>5.000000</td>\n",
       "      <td>19.048000</td>\n",
       "      <td>5.000000</td>\n",
       "      <td>1.325535e+09</td>\n",
       "    </tr>\n",
       "    <tr>\n",
       "      <th>2012-01-03</th>\n",
       "      <td>1.325605e+09</td>\n",
       "      <td>5.252500</td>\n",
       "      <td>5.252500</td>\n",
       "      <td>11.004660</td>\n",
       "      <td>5.252500</td>\n",
       "      <td>1.325605e+09</td>\n",
       "    </tr>\n",
       "    <tr>\n",
       "      <th>2012-01-04</th>\n",
       "      <td>1.325682e+09</td>\n",
       "      <td>5.223333</td>\n",
       "      <td>5.200000</td>\n",
       "      <td>11.914807</td>\n",
       "      <td>5.208159</td>\n",
       "      <td>1.325682e+09</td>\n",
       "    </tr>\n",
       "    <tr>\n",
       "      <th>2012-01-05</th>\n",
       "      <td>1.325771e+09</td>\n",
       "      <td>6.286190</td>\n",
       "      <td>6.281429</td>\n",
       "      <td>4.514373</td>\n",
       "      <td>6.284127</td>\n",
       "      <td>1.325771e+09</td>\n",
       "    </tr>\n",
       "    <tr>\n",
       "      <th>...</th>\n",
       "      <td>...</td>\n",
       "      <td>...</td>\n",
       "      <td>...</td>\n",
       "      <td>...</td>\n",
       "      <td>...</td>\n",
       "      <td>...</td>\n",
       "    </tr>\n",
       "    <tr>\n",
       "      <th>2020-09-10</th>\n",
       "      <td>1.599739e+09</td>\n",
       "      <td>10343.558552</td>\n",
       "      <td>10334.291588</td>\n",
       "      <td>7.119214</td>\n",
       "      <td>10339.359896</td>\n",
       "      <td>1.599739e+09</td>\n",
       "    </tr>\n",
       "    <tr>\n",
       "      <th>2020-09-11</th>\n",
       "      <td>1.599826e+09</td>\n",
       "      <td>10306.071361</td>\n",
       "      <td>10299.283936</td>\n",
       "      <td>3.660672</td>\n",
       "      <td>10303.242947</td>\n",
       "      <td>1.599826e+09</td>\n",
       "    </tr>\n",
       "    <tr>\n",
       "      <th>2020-09-12</th>\n",
       "      <td>1.599912e+09</td>\n",
       "      <td>10375.469839</td>\n",
       "      <td>10370.388713</td>\n",
       "      <td>1.754713</td>\n",
       "      <td>10373.259995</td>\n",
       "      <td>1.599912e+09</td>\n",
       "    </tr>\n",
       "    <tr>\n",
       "      <th>2020-09-13</th>\n",
       "      <td>1.599999e+09</td>\n",
       "      <td>10396.386007</td>\n",
       "      <td>10390.076996</td>\n",
       "      <td>3.056612</td>\n",
       "      <td>10393.662602</td>\n",
       "      <td>1.599999e+09</td>\n",
       "    </tr>\n",
       "    <tr>\n",
       "      <th>2020-09-14</th>\n",
       "      <td>1.600042e+09</td>\n",
       "      <td>10338.820000</td>\n",
       "      <td>10332.370000</td>\n",
       "      <td>1.292006</td>\n",
       "      <td>10332.429402</td>\n",
       "      <td>1.600042e+09</td>\n",
       "    </tr>\n",
       "  </tbody>\n",
       "</table>\n",
       "<p>3177 rows × 6 columns</p>\n",
       "</div>"
      ],
      "text/plain": [
       "                    timestamp          high  ...  weightedPrice  timestampINT\n",
       "normalised_date                              ...                             \n",
       "2012-01-01       1.325427e+09      4.806667  ...       4.806667  1.325427e+09\n",
       "2012-01-02       1.325535e+09      5.000000  ...       5.000000  1.325535e+09\n",
       "2012-01-03       1.325605e+09      5.252500  ...       5.252500  1.325605e+09\n",
       "2012-01-04       1.325682e+09      5.223333  ...       5.208159  1.325682e+09\n",
       "2012-01-05       1.325771e+09      6.286190  ...       6.284127  1.325771e+09\n",
       "...                       ...           ...  ...            ...           ...\n",
       "2020-09-10       1.599739e+09  10343.558552  ...   10339.359896  1.599739e+09\n",
       "2020-09-11       1.599826e+09  10306.071361  ...   10303.242947  1.599826e+09\n",
       "2020-09-12       1.599912e+09  10375.469839  ...   10373.259995  1.599912e+09\n",
       "2020-09-13       1.599999e+09  10396.386007  ...   10393.662602  1.599999e+09\n",
       "2020-09-14       1.600042e+09  10338.820000  ...   10332.429402  1.600042e+09\n",
       "\n",
       "[3177 rows x 6 columns]"
      ]
     },
     "execution_count": 4,
     "metadata": {
      "tags": []
     },
     "output_type": "execute_result"
    }
   ],
   "source": [
    "# grouping input df based on days (aggregates minute/hourly timestamps into daily)\n",
    "print(len(final_df))\n",
    "final_df['normalised_date'] = final_df['timeUTC'].dt.normalize()\n",
    "final_df.head()\n",
    "print(len(final_df))\n",
    "\n",
    "final_df['date_only'] = final_df['normalised_date']\n",
    "aggregated_df = final_df.groupby(final_df.normalised_date.dt.date).mean()\n",
    "print(len(aggregated_df))\n",
    "print(aggregated_df.columns)\n",
    "aggregated_df"
   ]
  },
  {
   "cell_type": "code",
   "execution_count": 6,
   "metadata": {
    "colab": {
     "base_uri": "https://localhost:8080/",
     "height": 450
    },
    "id": "CWdpEogfW5QX",
    "outputId": "428ee375-75a5-4dc9-e0bd-2349ed946c0b"
   },
   "outputs": [
    {
     "data": {
      "text/html": [
       "<div>\n",
       "<style scoped>\n",
       "    .dataframe tbody tr th:only-of-type {\n",
       "        vertical-align: middle;\n",
       "    }\n",
       "\n",
       "    .dataframe tbody tr th {\n",
       "        vertical-align: top;\n",
       "    }\n",
       "\n",
       "    .dataframe thead th {\n",
       "        text-align: right;\n",
       "    }\n",
       "</style>\n",
       "<table border=\"1\" class=\"dataframe\">\n",
       "  <thead>\n",
       "    <tr style=\"text-align: right;\">\n",
       "      <th></th>\n",
       "      <th>weightedPrice</th>\n",
       "    </tr>\n",
       "    <tr>\n",
       "      <th>normalised_date</th>\n",
       "      <th></th>\n",
       "    </tr>\n",
       "  </thead>\n",
       "  <tbody>\n",
       "    <tr>\n",
       "      <th>2012-01-01</th>\n",
       "      <td>4.806667</td>\n",
       "    </tr>\n",
       "    <tr>\n",
       "      <th>2012-01-02</th>\n",
       "      <td>5.000000</td>\n",
       "    </tr>\n",
       "    <tr>\n",
       "      <th>2012-01-03</th>\n",
       "      <td>5.252500</td>\n",
       "    </tr>\n",
       "    <tr>\n",
       "      <th>2012-01-04</th>\n",
       "      <td>5.208159</td>\n",
       "    </tr>\n",
       "    <tr>\n",
       "      <th>2012-01-05</th>\n",
       "      <td>6.284127</td>\n",
       "    </tr>\n",
       "    <tr>\n",
       "      <th>...</th>\n",
       "      <td>...</td>\n",
       "    </tr>\n",
       "    <tr>\n",
       "      <th>2020-09-10</th>\n",
       "      <td>10339.359896</td>\n",
       "    </tr>\n",
       "    <tr>\n",
       "      <th>2020-09-11</th>\n",
       "      <td>10303.242947</td>\n",
       "    </tr>\n",
       "    <tr>\n",
       "      <th>2020-09-12</th>\n",
       "      <td>10373.259995</td>\n",
       "    </tr>\n",
       "    <tr>\n",
       "      <th>2020-09-13</th>\n",
       "      <td>10393.662602</td>\n",
       "    </tr>\n",
       "    <tr>\n",
       "      <th>2020-09-14</th>\n",
       "      <td>10332.429402</td>\n",
       "    </tr>\n",
       "  </tbody>\n",
       "</table>\n",
       "<p>3177 rows × 1 columns</p>\n",
       "</div>"
      ],
      "text/plain": [
       "                 weightedPrice\n",
       "normalised_date               \n",
       "2012-01-01            4.806667\n",
       "2012-01-02            5.000000\n",
       "2012-01-03            5.252500\n",
       "2012-01-04            5.208159\n",
       "2012-01-05            6.284127\n",
       "...                        ...\n",
       "2020-09-10        10339.359896\n",
       "2020-09-11        10303.242947\n",
       "2020-09-12        10373.259995\n",
       "2020-09-13        10393.662602\n",
       "2020-09-14        10332.429402\n",
       "\n",
       "[3177 rows x 1 columns]"
      ]
     },
     "execution_count": 6,
     "metadata": {
      "tags": []
     },
     "output_type": "execute_result"
    }
   ],
   "source": [
    " # importing dependencies\n",
    "import pandas as pd\n",
    "import numpy as np\n",
    "import matplotlib.pyplot as plt\n",
    "from statsmodels.tsa.seasonal import seasonal_decompose\n",
    "#from pmdarima import auto_arima as AA\n",
    "import warnings\n",
    "import os\n",
    "#from statsmodels.tsa.statespace.sarimax import SARIMAX\n",
    "import regex as re\n",
    "\n",
    "\n",
    "y = aggregated_df[['weightedPrice']]\n",
    "y"
   ]
  },
  {
   "cell_type": "code",
   "execution_count": 9,
   "metadata": {
    "colab": {
     "base_uri": "https://localhost:8080/",
     "height": 314
    },
    "id": "eNTTzQ_raH-r",
    "outputId": "b9054db6-85f9-4867-cded-41d67e8dbadd"
   },
   "outputs": [
    {
     "name": "stdout",
     "output_type": "stream",
     "text": [
      "Dickey–Fuller test: p=0.6483033855184901\n"
     ]
    },
    {
     "data": {
      "image/png": "[encoded data removed]",
      "text/plain": [
       "<Figure size 432x288 with 4 Axes>"
      ]
     },
     "metadata": {
      "needs_background": "light",
      "tags": []
     },
     "output_type": "display_data"
    }
   ],
   "source": [
    "from statsmodels.tsa.stattools import adfuller\n",
    "\n",
    "# time series testing requirements: since a time series is stationally, it implies the model lacks broad changes in mean/variance over time\n",
    "# freq = monthyl\n",
    "print(f'Dickey–Fuller test: p={adfuller(y.weightedPrice)[1]}')\n",
    "seasonal_decompose(y.weightedPrice, freq=105).plot()\n",
    "plt.show()\n",
    "\n",
    "# this p-value indicates that our series is not stationary with 64.83% confidence"
   ]
  },
  {
   "cell_type": "code",
   "execution_count": 11,
   "metadata": {
    "colab": {
     "base_uri": "https://localhost:8080/"
    },
    "id": "CRp4GXxwaaBi",
    "outputId": "e00c0bb7-8ecd-4e91-cd20-7fac248c3ad4"
   },
   "outputs": [
    {
     "name": "stdout",
     "output_type": "stream",
     "text": [
      "Dickey–Fuller test: p=0.6566577102336565\n"
     ]
    },
    {
     "name": "stderr",
     "output_type": "stream",
     "text": [
      "/usr/local/lib/python3.6/dist-packages/ipykernel_launcher.py:4: SettingWithCopyWarning: \n",
      "A value is trying to be set on a copy of a slice from a DataFrame.\n",
      "Try using .loc[row_indexer,col_indexer] = value instead\n",
      "\n",
      "See the caveats in the documentation: https://pandas.pydata.org/pandas-docs/stable/user_guide/indexing.html#returning-a-view-versus-a-copy\n",
      "  after removing the cwd from sys.path.\n"
     ]
    }
   ],
   "source": [
    "# performing Box-Cox transformation to suppress some variance\n",
    "from scipy import stats\n",
    "\n",
    "y['weighted_price_box'], lmbda = stats.boxcox(y.weightedPrice)\n",
    "print(f'Dickey–Fuller test: p={adfuller(y.weighted_price_box)[1]}')\n",
    "\n",
    "# p-value indicates data is still not stationary"
   ]
  },
  {
   "cell_type": "code",
   "execution_count": 13,
   "metadata": {
    "colab": {
     "base_uri": "https://localhost:8080/"
    },
    "id": "K-KtCvVOcKDg",
    "outputId": "f52bfd4a-fdcd-4344-f1b9-20cbaf9585d7"
   },
   "outputs": [
    {
     "name": "stdout",
     "output_type": "stream",
     "text": [
      "3177\n"
     ]
    }
   ],
   "source": [
    "print(len(y))"
   ]
  },
  {
   "cell_type": "code",
   "execution_count": 18,
   "metadata": {
    "colab": {
     "base_uri": "https://localhost:8080/"
    },
    "id": "-xaJLZVxdTar",
    "outputId": "e34695eb-d209-40b3-bbc1-a872d10dbf3a"
   },
   "outputs": [
    {
     "name": "stdout",
     "output_type": "stream",
     "text": [
      "Dickey–Fuller test: p=0.22580509355719247\n"
     ]
    },
    {
     "name": "stderr",
     "output_type": "stream",
     "text": [
      "/usr/local/lib/python3.6/dist-packages/ipykernel_launcher.py:2: SettingWithCopyWarning: \n",
      "A value is trying to be set on a copy of a slice from a DataFrame.\n",
      "Try using .loc[row_indexer,col_indexer] = value instead\n",
      "\n",
      "See the caveats in the documentation: https://pandas.pydata.org/pandas-docs/stable/user_guide/indexing.html#returning-a-view-versus-a-copy\n",
      "  \n"
     ]
    }
   ],
   "source": [
    "# Seasonal differentiation (12 months) computing differences between observation in present year and corresponding observation in previous year \n",
    "y['box_diff_seasonal_12'] = y.weighted_price_box - y.weighted_price_box.shift(365)\n",
    "print(f'Dickey–Fuller test: p={adfuller(y.box_diff_seasonal_12[365:])[1]}')"
   ]
  },
  {
   "cell_type": "code",
   "execution_count": 21,
   "metadata": {
    "colab": {
     "base_uri": "https://localhost:8080/",
     "height": 450
    },
    "id": "G4XcnmREhJVT",
    "outputId": "0f78a91a-febd-490f-c65c-76f8295811be"
   },
   "outputs": [
    {
     "data": {
      "text/html": [
       "<div>\n",
       "<style scoped>\n",
       "    .dataframe tbody tr th:only-of-type {\n",
       "        vertical-align: middle;\n",
       "    }\n",
       "\n",
       "    .dataframe tbody tr th {\n",
       "        vertical-align: top;\n",
       "    }\n",
       "\n",
       "    .dataframe thead th {\n",
       "        text-align: right;\n",
       "    }\n",
       "</style>\n",
       "<table border=\"1\" class=\"dataframe\">\n",
       "  <thead>\n",
       "    <tr style=\"text-align: right;\">\n",
       "      <th></th>\n",
       "      <th>weightedPrice</th>\n",
       "      <th>weighted_price_box</th>\n",
       "      <th>box_diff_seasonal_12</th>\n",
       "    </tr>\n",
       "    <tr>\n",
       "      <th>normalised_date</th>\n",
       "      <th></th>\n",
       "      <th></th>\n",
       "      <th></th>\n",
       "    </tr>\n",
       "  </thead>\n",
       "  <tbody>\n",
       "    <tr>\n",
       "      <th>2012-01-01</th>\n",
       "      <td>4.806667</td>\n",
       "      <td>1.756126</td>\n",
       "      <td>NaN</td>\n",
       "    </tr>\n",
       "    <tr>\n",
       "      <th>2012-01-02</th>\n",
       "      <td>5.000000</td>\n",
       "      <td>1.805402</td>\n",
       "      <td>NaN</td>\n",
       "    </tr>\n",
       "    <tr>\n",
       "      <th>2012-01-03</th>\n",
       "      <td>5.252500</td>\n",
       "      <td>1.867347</td>\n",
       "      <td>NaN</td>\n",
       "    </tr>\n",
       "    <tr>\n",
       "      <th>2012-01-04</th>\n",
       "      <td>5.208159</td>\n",
       "      <td>1.856657</td>\n",
       "      <td>NaN</td>\n",
       "    </tr>\n",
       "    <tr>\n",
       "      <th>2012-01-05</th>\n",
       "      <td>6.284127</td>\n",
       "      <td>2.096466</td>\n",
       "      <td>NaN</td>\n",
       "    </tr>\n",
       "    <tr>\n",
       "      <th>...</th>\n",
       "      <td>...</td>\n",
       "      <td>...</td>\n",
       "      <td>...</td>\n",
       "    </tr>\n",
       "    <tr>\n",
       "      <th>2020-09-10</th>\n",
       "      <td>10339.359896</td>\n",
       "      <td>18.928328</td>\n",
       "      <td>0.098552</td>\n",
       "    </tr>\n",
       "    <tr>\n",
       "      <th>2020-09-11</th>\n",
       "      <td>10303.242947</td>\n",
       "      <td>18.915549</td>\n",
       "      <td>0.029693</td>\n",
       "    </tr>\n",
       "    <tr>\n",
       "      <th>2020-09-12</th>\n",
       "      <td>10373.259995</td>\n",
       "      <td>18.940287</td>\n",
       "      <td>0.020006</td>\n",
       "    </tr>\n",
       "    <tr>\n",
       "      <th>2020-09-13</th>\n",
       "      <td>10393.662602</td>\n",
       "      <td>18.947469</td>\n",
       "      <td>0.018239</td>\n",
       "    </tr>\n",
       "    <tr>\n",
       "      <th>2020-09-14</th>\n",
       "      <td>10332.429402</td>\n",
       "      <td>18.925879</td>\n",
       "      <td>0.005576</td>\n",
       "    </tr>\n",
       "  </tbody>\n",
       "</table>\n",
       "<p>3177 rows × 3 columns</p>\n",
       "</div>"
      ],
      "text/plain": [
       "                 weightedPrice  weighted_price_box  box_diff_seasonal_12\n",
       "normalised_date                                                         \n",
       "2012-01-01            4.806667            1.756126                   NaN\n",
       "2012-01-02            5.000000            1.805402                   NaN\n",
       "2012-01-03            5.252500            1.867347                   NaN\n",
       "2012-01-04            5.208159            1.856657                   NaN\n",
       "2012-01-05            6.284127            2.096466                   NaN\n",
       "...                        ...                 ...                   ...\n",
       "2020-09-10        10339.359896           18.928328              0.098552\n",
       "2020-09-11        10303.242947           18.915549              0.029693\n",
       "2020-09-12        10373.259995           18.940287              0.020006\n",
       "2020-09-13        10393.662602           18.947469              0.018239\n",
       "2020-09-14        10332.429402           18.925879              0.005576\n",
       "\n",
       "[3177 rows x 3 columns]"
      ]
     },
     "execution_count": 21,
     "metadata": {
      "tags": []
     },
     "output_type": "execute_result"
    }
   ],
   "source": [
    "y"
   ]
  },
  {
   "cell_type": "code",
   "execution_count": 35,
   "metadata": {
    "id": "atx7HosbflT7"
   },
   "outputs": [],
   "source": [
    "# y.drop(labels=['box_diff_seasonal_12','weighted_price_box'], inplace=True, axis=1)\n",
    "# augmented DF test\n",
    "import statsmodels.tsa.stattools as sm\n",
    "\n",
    "adf_test = sm.adfuller(y.weightedPrice)"
   ]
  },
  {
   "cell_type": "code",
   "execution_count": 37,
   "metadata": {
    "colab": {
     "base_uri": "https://localhost:8080/"
    },
    "id": "2qbPCCBrhESd",
    "outputId": "86bcfede-c1cb-4a3f-a5eb-c74994ce6aca"
   },
   "outputs": [
    {
     "name": "stdout",
     "output_type": "stream",
     "text": [
      "t-statistic             -1.257683\n",
      "p-value                  0.648303\n",
      "lags                    29.000000\n",
      "# observations        3147.000000\n",
      "Critical value 1%       -3.432430\n",
      "Critical value 5%       -2.862459\n",
      "Critical value 10%      -2.567259\n",
      "dtype: float64\n"
     ]
    }
   ],
   "source": [
    "output = pd.Series(adf_test[0:4], index=['t-statistic','p-value','lags','# observations'])\n",
    "for key,value in adf_test[4].items():\n",
    "  output[f'Critical value {key}'] = value\n",
    "print(output)\n",
    "\n",
    "# based on our analysis, our calculated t-statistic shows that our data is not stationary since it is greater than the critical values at all levels (greater than p value of 0.10)"
   ]
  },
  {
   "cell_type": "code",
   "execution_count": 39,
   "metadata": {
    "colab": {
     "base_uri": "https://localhost:8080/",
     "height": 319
    },
    "id": "3AAcSwmHhYSf",
    "outputId": "98f33595-f22a-4dd7-a34d-771fe51bfcb0"
   },
   "outputs": [
    {
     "data": {
      "text/plain": [
       "<matplotlib.axes._subplots.AxesSubplot at 0x7f35e63931d0>"
      ]
     },
     "execution_count": 39,
     "metadata": {
      "tags": []
     },
     "output_type": "execute_result"
    },
    {
     "data": {
      "image/png": "[encoded data removed]",
      "text/plain": [
       "<Figure size 432x288 with 1 Axes>"
      ]
     },
     "metadata": {
      "tags": []
     },
     "output_type": "display_data"
    }
   ],
   "source": [
    "# importing and setting dependencies\n",
    "import matplotlib\n",
    "warnings.filterwarnings(\"ignore\")\n",
    "plt.style.use('fivethirtyeight')\n",
    "matplotlib.rcParams['axes.labelsize'] = 14\n",
    "matplotlib.rcParams['xtick.labelsize'] = 12\n",
    "matplotlib.rcParams['ytick.labelsize'] = 12\n",
    "matplotlib.rcParams['text.color'] = 'G'\n",
    "\n",
    "y.plot()"
   ]
  },
  {
   "cell_type": "code",
   "execution_count": 46,
   "metadata": {
    "colab": {
     "base_uri": "https://localhost:8080/",
     "height": 320
    },
    "id": "NsoQA-LIjdA8",
    "outputId": "f80bf019-be7f-4aed-88f5-6e52b21f8e6a"
   },
   "outputs": [
    {
     "data": {
      "text/plain": [
       "<matplotlib.axes._subplots.AxesSubplot at 0x7f35e6f1bf60>"
      ]
     },
     "execution_count": 46,
     "metadata": {
      "tags": []
     },
     "output_type": "execute_result"
    },
    {
     "data": {
      "image/png": "[encoded data removed]",
      "text/plain": [
       "<Figure size 432x288 with 1 Axes>"
      ]
     },
     "metadata": {
      "tags": []
     },
     "output_type": "display_data"
    }
   ],
   "source": [
    "# applying log transformation to make data more stationary\n",
    "log_data = np.log(y)\n",
    "ma_data = log_data.rolling(window=365).mean() # calculating the moving average\n",
    "log_minus_ma_data = log_data - ma_data\n",
    "log_minus_ma_data.dropna(inplace=True)\n",
    "log_minus_ma_data.plot()"
   ]
  },
  {
   "cell_type": "code",
   "execution_count": 47,
   "metadata": {
    "colab": {
     "base_uri": "https://localhost:8080/"
    },
    "id": "HDetWKeQkGTi",
    "outputId": "e7595d11-e5fd-4244-8a3d-92d4bab50300"
   },
   "outputs": [
    {
     "name": "stdout",
     "output_type": "stream",
     "text": [
      "t-statistic             -2.338379\n",
      "p-value                  0.159888\n",
      "lags                    20.000000\n",
      "# observations        2792.000000\n",
      "Critical value 1%       -3.432694\n",
      "Critical value 5%       -2.862576\n",
      "Critical value 10%      -2.567321\n",
      "dtype: float64\n"
     ]
    }
   ],
   "source": [
    "# reapplying adf test after log transforming input data\n",
    "adf_test = sm.adfuller(log_minus_ma_data.weightedPrice)\n",
    "output = pd.Series(adf_test[0:4], index=['t-statistic','p-value','lags','# observations'])\n",
    "for key,value in adf_test[4].items():\n",
    "  output[f'Critical value {key}'] = value\n",
    "print(output)"
   ]
  },
  {
   "cell_type": "code",
   "execution_count": null,
   "metadata": {
    "id": "OaXlxDOdkjg-"
   },
   "outputs": [],
   "source": [
    "# performing Phillips-Perron test to test if data is stationary\n",
    "import pmdarima\n",
    "\n",
    "test = pmdarima.arima.PPTest() # default alpha = 0.05\n",
    "test.should_diff(log_minus_ma_data)"
   ]
  },
  {
   "cell_type": "code",
   "execution_count": null,
   "metadata": {
    "id": "WISr0EillM1E"
   },
   "outputs": [],
   "source": []
  }
 ],
 "metadata": {
  "colab": {
   "collapsed_sections": [],
   "name": "segment2_model_prerequisites.ipynb",
   "provenance": []
  },
  "kernelspec": {
   "display_name": "Python 3",
   "language": "python",
   "name": "python3"
  },
  "language_info": {
   "codemirror_mode": {
    "name": "ipython",
    "version": 3
   },
   "file_extension": ".py",
   "mimetype": "text/x-python",
   "name": "python",
   "nbconvert_exporter": "python",
   "pygments_lexer": "ipython3",
   "version": "3.7.7"
  }
 },
 "nbformat": 4,
 "nbformat_minor": 1
}
