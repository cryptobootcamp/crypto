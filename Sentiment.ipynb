{
 "cells": [
  {
   "cell_type": "code",
   "execution_count": 44,
   "metadata": {},
   "outputs": [
    {
     "name": "stderr",
     "output_type": "stream",
     "text": [
      "[nltk_data] Downloading package vader_lexicon to\n",
      "[nltk_data]     /Users/adamweber/nltk_data...\n",
      "[nltk_data]   Package vader_lexicon is already up-to-date!\n"
     ]
    },
    {
     "data": {
      "text/plain": [
       "True"
      ]
     },
     "execution_count": 44,
     "metadata": {},
     "output_type": "execute_result"
    }
   ],
   "source": [
    "# Import dependencies\n",
    "import praw\n",
    "from psaw import PushshiftAPI\n",
    "import pandas as pd\n",
    "import datetime\n",
    "import time\n",
    "import matplotlib.pyplot as plt\n",
    "import numpy as np\n",
    "from config import client_id, client_secret, user_agent, db_password\n",
    "from sqlalchemy import create_engine\n",
    "import nltk\n",
    "from nltk.sentiment.vader import SentimentIntensityAnalyzer\n",
    "nltk.download('vader_lexicon')"
   ]
  },
  {
   "cell_type": "code",
   "execution_count": 45,
   "metadata": {},
   "outputs": [],
   "source": [
    "# Set up API credentials\n",
    "reddit = praw.Reddit(client_id = client_id,\n",
    "                     client_secret = client_secret,\n",
    "                     user_agent = user_agent)\n",
    "api = PushshiftAPI()"
   ]
  },
  {
   "cell_type": "code",
   "execution_count": 46,
   "metadata": {},
   "outputs": [],
   "source": [
    "def scrape():\n",
    "    \n",
    "    submissions = list()\n",
    "    query = api.search_comments(subreddit='cryptocurrency', q=\"bitcoin|btc\", limit=1000)\n",
    "    for element in query:\n",
    "        submissions.append(element.d_)\n",
    "\n",
    "    df = pd.DataFrame(submissions)\n",
    "    df = df[['id', 'score', 'subreddit', 'body', 'created_utc']]\n",
    "    df['datetime'] = df['created_utc'].map(lambda t: datetime.datetime.fromtimestamp(t))\n",
    "    df = df.drop('created_utc', axis=1)\n",
    "    df = df.sort_values(by='datetime')\n",
    "    duplicateRowsDF = df[df.duplicated(['body'])]\n",
    "    df = df.drop_duplicates(subset='body', keep=\"first\")\n",
    "    \n",
    "    analyzer = SentimentIntensityAnalyzer()\n",
    "    df['neg'] = df['body'].apply(lambda x:analyzer.polarity_scores(x)['neg'])\n",
    "    df['neu'] = df['body'].apply(lambda x:analyzer.polarity_scores(x)['neu'])\n",
    "    df['pos'] = df['body'].apply(lambda x:analyzer.polarity_scores(x)['pos'])\n",
    "    df['compound'] = df['body'].apply(lambda x:analyzer.polarity_scores(x)['compound'])\n",
    "    return df"
   ]
  },
  {
   "cell_type": "code",
   "execution_count": 47,
   "metadata": {},
   "outputs": [],
   "source": [
    "df = scrape()"
   ]
  },
  {
   "cell_type": "code",
   "execution_count": 48,
   "metadata": {},
   "outputs": [
    {
     "data": {
      "text/plain": [
       "0.19927373737373744"
      ]
     },
     "execution_count": 48,
     "metadata": {},
     "output_type": "execute_result"
    }
   ],
   "source": [
    "average = df.compound.mean()\n",
    "average"
   ]
  },
  {
   "cell_type": "code",
   "execution_count": null,
   "metadata": {},
   "outputs": [],
   "source": []
  },
  {
   "cell_type": "code",
   "execution_count": null,
   "metadata": {},
   "outputs": [],
   "source": []
  }
 ],
 "metadata": {
  "kernelspec": {
   "display_name": "mlenv",
   "language": "python",
   "name": "mlenv"
  },
  "language_info": {
   "codemirror_mode": {
    "name": "ipython",
    "version": 3
   },
   "file_extension": ".py",
   "mimetype": "text/x-python",
   "name": "python",
   "nbconvert_exporter": "python",
   "pygments_lexer": "ipython3",
   "version": "3.7.7"
  }
 },
 "nbformat": 4,
 "nbformat_minor": 4
}
