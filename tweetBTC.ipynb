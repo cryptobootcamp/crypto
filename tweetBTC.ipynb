{
 "cells": [
  {
   "cell_type": "code",
   "execution_count": 62,
   "metadata": {},
   "outputs": [],
   "source": [
    "import tweepy as tw\n",
    "import pandas as pd\n",
    "from config import db_password, consumer_key, consumer_secret, access_token, access_token_secret"
   ]
  },
  {
   "cell_type": "code",
   "execution_count": 63,
   "metadata": {},
   "outputs": [
    {
     "name": "stdout",
     "output_type": "stream",
     "text": [
      "Authentication OK\n"
     ]
    }
   ],
   "source": [
    "# Authenticate to Twitter\n",
    "auth = tweepy.OAuthHandler(consumer_key, consumer_secret) \n",
    "auth.set_access_token(access_token, access_token_secret)\n",
    "api = tweepy.API(auth, wait_on_rate_limit=True, wait_on_rate_limit_notify=True)\n",
    "\n",
    "try:\n",
    "    api.verify_credentials()\n",
    "    print(\"Authentication OK\")\n",
    "except:\n",
    "    print(\"Error during authentication\")"
   ]
  },
  {
   "cell_type": "code",
   "execution_count": 64,
   "metadata": {},
   "outputs": [],
   "source": [
    "# Define variables\n",
    "search_words = \"#Bitcoin -filter:retweets\"\n",
    "date_since = \"2018-01-01\""
   ]
  },
  {
   "cell_type": "code",
   "execution_count": 60,
   "metadata": {},
   "outputs": [],
   "source": [
    "# Collect tweets\n",
    "tweets = tw.Cursor(api.search, q=search_words, lang=\"en\", since=date_since, tweet_mode=\"extended\").items(1000)"
   ]
  },
  {
   "cell_type": "code",
   "execution_count": 65,
   "metadata": {},
   "outputs": [],
   "source": [
    "# Store to list\n",
    "tweets_list = [[tweet.created_at, tweet.full_text] for tweet in tweets]"
   ]
  },
  {
   "cell_type": "code",
   "execution_count": 66,
   "metadata": {},
   "outputs": [
    {
     "data": {
      "text/plain": [
       "[[datetime.datetime(2020, 12, 9, 4, 49, 15),\n",
       "  'ANOTHER WIN!! 18 Months Straight!!https://t.co/EHBINKBRH6 Grow Your Bitcoin DAILY! #Bitcoin #BTC #Crypto #GrowYourBitcoin #MTI https://t.co/lNLqnYz7X7'],\n",
       " [datetime.datetime(2020, 12, 9, 4, 49, 3),\n",
       "  'MyEtherWallet Now Offers In-App Staking for Ethereum 2.0: One of Ethereum’s most popular software wallets, MyEtherWallet, is giving users access to Ethereum 2.0… https://t.co/ewIBdAUg4Z  | https://t.co/FHLhKCQA7o  | https://t.co/vqHPEDx05k #cryptocurrency #blockchain #Bitcoin'],\n",
       " [datetime.datetime(2020, 12, 9, 4, 49, 2),\n",
       "  'Wells Fargo report labels Bitcoin as speculative investment: “Cryptocurrency investing today is a bit like living in the early days of the 1850’s gold rush, which… https://t.co/ctnrj4oTyt  | https://t.co/FHLhKCQA7o  | https://t.co/vqHPEDx05k #cryptocurrency #blockchain #Bitcoin https://t.co/mil3hfCile'],\n",
       " [datetime.datetime(2020, 12, 9, 4, 49),\n",
       "  'Become an expert crypto day trader with these incredible tips.\\n\\nhttps://t.co/q2ghkd2hDo via StreetWise Journal\\n#Investing #Bitcoin'],\n",
       " [datetime.datetime(2020, 12, 9, 4, 48, 42),\n",
       "  'Have you heard of #Bitcoin ? https://t.co/cMFS3bkWwF']]"
      ]
     },
     "execution_count": 66,
     "metadata": {},
     "output_type": "execute_result"
    }
   ],
   "source": [
    "# Display last 5 to confirm valid data\n",
    "tweets_list[:5]"
   ]
  },
  {
   "cell_type": "code",
   "execution_count": 67,
   "metadata": {},
   "outputs": [],
   "source": [
    "# Convert list to datafram\n",
    "df = pd.DataFrame(tweets_list, columns=['date', 'text'])"
   ]
  },
  {
   "cell_type": "code",
   "execution_count": 68,
   "metadata": {},
   "outputs": [
    {
     "data": {
      "text/html": [
       "<div>\n",
       "<style scoped>\n",
       "    .dataframe tbody tr th:only-of-type {\n",
       "        vertical-align: middle;\n",
       "    }\n",
       "\n",
       "    .dataframe tbody tr th {\n",
       "        vertical-align: top;\n",
       "    }\n",
       "\n",
       "    .dataframe thead th {\n",
       "        text-align: right;\n",
       "    }\n",
       "</style>\n",
       "<table border=\"1\" class=\"dataframe\">\n",
       "  <thead>\n",
       "    <tr style=\"text-align: right;\">\n",
       "      <th></th>\n",
       "      <th>date</th>\n",
       "      <th>text</th>\n",
       "    </tr>\n",
       "  </thead>\n",
       "  <tbody>\n",
       "    <tr>\n",
       "      <th>0</th>\n",
       "      <td>2020-12-09 04:49:15</td>\n",
       "      <td>ANOTHER WIN!! 18 Months Straight!!https://t.co...</td>\n",
       "    </tr>\n",
       "    <tr>\n",
       "      <th>1</th>\n",
       "      <td>2020-12-09 04:49:03</td>\n",
       "      <td>MyEtherWallet Now Offers In-App Staking for Et...</td>\n",
       "    </tr>\n",
       "    <tr>\n",
       "      <th>2</th>\n",
       "      <td>2020-12-09 04:49:02</td>\n",
       "      <td>Wells Fargo report labels Bitcoin as speculati...</td>\n",
       "    </tr>\n",
       "    <tr>\n",
       "      <th>3</th>\n",
       "      <td>2020-12-09 04:49:00</td>\n",
       "      <td>Become an expert crypto day trader with these ...</td>\n",
       "    </tr>\n",
       "    <tr>\n",
       "      <th>4</th>\n",
       "      <td>2020-12-09 04:48:42</td>\n",
       "      <td>Have you heard of #Bitcoin ? https://t.co/cMFS...</td>\n",
       "    </tr>\n",
       "    <tr>\n",
       "      <th>5</th>\n",
       "      <td>2020-12-09 04:48:15</td>\n",
       "      <td>@heydave7 Almost all money is entry in a datab...</td>\n",
       "    </tr>\n",
       "    <tr>\n",
       "      <th>6</th>\n",
       "      <td>2020-12-09 04:48:14</td>\n",
       "      <td>@CoinCornerDanny #Bitcoin just does it's work ...</td>\n",
       "    </tr>\n",
       "    <tr>\n",
       "      <th>7</th>\n",
       "      <td>2020-12-09 04:48:12</td>\n",
       "      <td>#bitcoin #forex #crypto #cryptocurrency #socia...</td>\n",
       "    </tr>\n",
       "    <tr>\n",
       "      <th>8</th>\n",
       "      <td>2020-12-09 04:48:11</td>\n",
       "      <td>@pierre_rochard @saifedean If only an instrume...</td>\n",
       "    </tr>\n",
       "    <tr>\n",
       "      <th>9</th>\n",
       "      <td>2020-12-09 04:48:03</td>\n",
       "      <td>ANOTHER WIN!! 18 Months Straight!!https://t.co...</td>\n",
       "    </tr>\n",
       "  </tbody>\n",
       "</table>\n",
       "</div>"
      ],
      "text/plain": [
       "                 date                                               text\n",
       "0 2020-12-09 04:49:15  ANOTHER WIN!! 18 Months Straight!!https://t.co...\n",
       "1 2020-12-09 04:49:03  MyEtherWallet Now Offers In-App Staking for Et...\n",
       "2 2020-12-09 04:49:02  Wells Fargo report labels Bitcoin as speculati...\n",
       "3 2020-12-09 04:49:00  Become an expert crypto day trader with these ...\n",
       "4 2020-12-09 04:48:42  Have you heard of #Bitcoin ? https://t.co/cMFS...\n",
       "5 2020-12-09 04:48:15  @heydave7 Almost all money is entry in a datab...\n",
       "6 2020-12-09 04:48:14  @CoinCornerDanny #Bitcoin just does it's work ...\n",
       "7 2020-12-09 04:48:12  #bitcoin #forex #crypto #cryptocurrency #socia...\n",
       "8 2020-12-09 04:48:11  @pierre_rochard @saifedean If only an instrume...\n",
       "9 2020-12-09 04:48:03  ANOTHER WIN!! 18 Months Straight!!https://t.co..."
      ]
     },
     "execution_count": 68,
     "metadata": {},
     "output_type": "execute_result"
    }
   ],
   "source": [
    "df.head(10)"
   ]
  },
  {
   "cell_type": "code",
   "execution_count": 69,
   "metadata": {},
   "outputs": [],
   "source": [
    "# Export to csv\n",
    "df.to_csv('bitcoinTweets.csv', index=False)"
   ]
  },
  {
   "cell_type": "code",
   "execution_count": null,
   "metadata": {},
   "outputs": [],
   "source": []
  }
 ],
 "metadata": {
  "kernelspec": {
   "display_name": "mlenv",
   "language": "python",
   "name": "mlenv"
  },
  "language_info": {
   "codemirror_mode": {
    "name": "ipython",
    "version": 3
   },
   "file_extension": ".py",
   "mimetype": "text/x-python",
   "name": "python",
   "nbconvert_exporter": "python",
   "pygments_lexer": "ipython3",
   "version": "3.7.7"
  }
 },
 "nbformat": 4,
 "nbformat_minor": 4
}
