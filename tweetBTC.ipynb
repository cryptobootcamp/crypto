{
 "cells": [
  {
   "cell_type": "code",
   "execution_count": 19,
   "metadata": {},
   "outputs": [],
   "source": [
    "import tweepy as tw\n",
    "import pandas as pd\n",
    "from config import db_password, consumer_key, consumer_secret, access_token, access_token_secret"
   ]
  },
  {
   "cell_type": "code",
   "execution_count": 20,
   "metadata": {},
   "outputs": [
    {
     "name": "stdout",
     "output_type": "stream",
     "text": [
      "Authentication OK\n"
     ]
    }
   ],
   "source": [
    "# Authenticate to Twitter\n",
    "auth = tweepy.OAuthHandler(consumer_key, consumer_secret) \n",
    "auth.set_access_token(access_token, access_token_secret)\n",
    "api = tweepy.API(auth, wait_on_rate_limit=True, wait_on_rate_limit_notify=True)\n",
    "\n",
    "try:\n",
    "    api.verify_credentials()\n",
    "    print(\"Authentication OK\")\n",
    "except:\n",
    "    print(\"Error during authentication\")"
   ]
  },
  {
   "cell_type": "code",
   "execution_count": 21,
   "metadata": {},
   "outputs": [
    {
     "name": "stdout",
     "output_type": "stream",
     "text": [
      "mega kriptos:RT @BetllerOfficial: #Bitcoin breakout? \n",
      "\n",
      "@coinkit_ mon 25 150 BTC https://t.co/M2qXZSws1p\n",
      "boyes setiawan:RT @Uniswappro_org: ✅ Airdrop is LIVE\n",
      "\n",
      "Get Free 500$ UNIP\n",
      "\n",
      "Earn Extra 50$ UNIP for every referrral\n",
      "\n",
      "https://t.co/nOTPH70JTK\n",
      "\n",
      "#Airdrop #Unis…\n",
      "mega kriptos:RT @BetllerOfficial: #Bitcoin is just 4900 USDT away from its ATH ( $19891 ) 🚀\n",
      "\n",
      "@coinkit_ mon 25 150 BTC\n",
      "#btcusdt #betller https://t.co/Ugx…\n",
      "Whale of Blockchain:RT @WhalePanda: Every #Bitcoin you sell now is being bought by a large institutional player that's desperately trying to accumulate as much…\n",
      "The Bitcoin Matrix Podcast:RT @CedYoungelman: Are nuclear power plants suitable for #Bitcoin mining? \n",
      "\n",
      "How long before a state actor turns one towards #btc?\n",
      "RockinFreelance:RT @bmurphypointman: #freelance #freelancer #freelancing #freelancers   #bitcoin Free shipping on purchases over $25 at #Amazon https://t.c…\n",
      "Uncle Kingsley #GBPJPY:Protection of capital should be your first goal in currency market, once you master it, everything called profitabi… https://t.co/QyTyaO8TaG\n",
      "CryptoNetsraC:RT @Scarlettt_Ok: New GIVEAWAY ! #Okcash $ok $BTC #ETH \n",
      "“20” WINNERS 10 OK EACH. Valid until the next giveaway.\n",
      "\n",
      "RULES:\n",
      "\n",
      "1. Like and Retwee…\n",
      "HappyShillmore:RT @pierre_rochard: @PeterSchiff @michael_saylor Publicly traded companies that hold zero bitcoin are just a gamble, under-capitalized and…\n",
      "Timothy Nelson:RT @Verox_AI: #Bitcoin price is up 480,000x +48,000,000% since 2010 to today!..\n",
      "\n",
      "50,000$ invested 10 years ago into $btc are now worth 24,0…\n",
      "The Bitcoin Matrix Podcast:RT @CedYoungelman: #Bitcoin is a gift.\n",
      "HODL4:20:RT @tyler: #Bitcoin is looking awfully boring hovering between 18-19k. Feels like a tiger getting ready to pounce\n",
      "Ali:There is one huge problem in the #crypto market and it is called \n",
      "#bitcoin !\n",
      "petru mikuska:🤝 Follow me on @betfury_io. Let's hunt for Bitcoins together! Get an exciting experience on #1 I-Gaming platform wi… https://t.co/MlKZteS1Di\n"
     ]
    }
   ],
   "source": [
    "# Search last 5 tweets to verify function\n",
    "for tweet in api.search(q=\"#Bitcoin\", lang=\"en\", rpp=5):\n",
    "    print(f\"{tweet.user.name}:{tweet.text}\")"
   ]
  },
  {
   "cell_type": "code",
   "execution_count": 22,
   "metadata": {},
   "outputs": [],
   "source": [
    "# Define variables\n",
    "search_words = \"#Bitcoin -filter:retweets\"\n",
    "date_since = \"2018-01-01\""
   ]
  },
  {
   "cell_type": "code",
   "execution_count": 23,
   "metadata": {},
   "outputs": [],
   "source": [
    "# Collect tweets\n",
    "tweets = tw.Cursor(api.search, q=search_words, lang=\"en\", since=date_since).items(500)"
   ]
  },
  {
   "cell_type": "code",
   "execution_count": 24,
   "metadata": {},
   "outputs": [],
   "source": [
    "# Store to list\n",
    "tweets_list = [tweet.text for tweet in tweets]"
   ]
  },
  {
   "cell_type": "code",
   "execution_count": 28,
   "metadata": {},
   "outputs": [
    {
     "data": {
      "text/plain": [
       "['#Bitcoin Price Drops $1,000 in Worst Sell-Off in a Week https://t.co/4ZrEPqlEJU https://t.co/zVsD70kPU2',\n",
       " 'Michael Saylor bought the #Bitcoin top top top',\n",
       " 'Wed Dec  9 06:37:11 2020 (12:27)\\nUSD : 18,168.24\\nWght: 0.0\\nBlk#: 660,586\\nSize: 1,297.3\\nTxs : 2,015\\nPool: 2,632 (3.7 MB)\\n#bitcoin',\n",
       " '$BTC Latest Block Info: Block 660586 holds 2,015 transactions for a total of 19,945.95241 #Bitcoin including Block… https://t.co/FqzWr8xWl3',\n",
       " 'Hauck &amp; Aufhäuser, one of the oldest banks in #Germany partnered with #Berlin-based Kapilendo to launch its first-e… https://t.co/Ya0xFxogWA']"
      ]
     },
     "execution_count": 28,
     "metadata": {},
     "output_type": "execute_result"
    }
   ],
   "source": [
    "# Display last 5 to confirm valid data\n",
    "tweets_list[:5]"
   ]
  },
  {
   "cell_type": "code",
   "execution_count": 33,
   "metadata": {},
   "outputs": [],
   "source": [
    "# Convert list to datafram\n",
    "df = pd.DataFrame(tweets_list, columns=['text'])"
   ]
  },
  {
   "cell_type": "code",
   "execution_count": 36,
   "metadata": {},
   "outputs": [
    {
     "data": {
      "text/html": [
       "<div>\n",
       "<style scoped>\n",
       "    .dataframe tbody tr th:only-of-type {\n",
       "        vertical-align: middle;\n",
       "    }\n",
       "\n",
       "    .dataframe tbody tr th {\n",
       "        vertical-align: top;\n",
       "    }\n",
       "\n",
       "    .dataframe thead th {\n",
       "        text-align: right;\n",
       "    }\n",
       "</style>\n",
       "<table border=\"1\" class=\"dataframe\">\n",
       "  <thead>\n",
       "    <tr style=\"text-align: right;\">\n",
       "      <th></th>\n",
       "      <th>text</th>\n",
       "    </tr>\n",
       "  </thead>\n",
       "  <tbody>\n",
       "    <tr>\n",
       "      <th>0</th>\n",
       "      <td>#Bitcoin Price Drops $1,000 in Worst Sell-Off ...</td>\n",
       "    </tr>\n",
       "    <tr>\n",
       "      <th>1</th>\n",
       "      <td>Michael Saylor bought the #Bitcoin top top top</td>\n",
       "    </tr>\n",
       "    <tr>\n",
       "      <th>2</th>\n",
       "      <td>Wed Dec  9 06:37:11 2020 (12:27)\\nUSD : 18,168...</td>\n",
       "    </tr>\n",
       "    <tr>\n",
       "      <th>3</th>\n",
       "      <td>$BTC Latest Block Info: Block 660586 holds 2,0...</td>\n",
       "    </tr>\n",
       "    <tr>\n",
       "      <th>4</th>\n",
       "      <td>Hauck &amp;amp; Aufhäuser, one of the oldest banks...</td>\n",
       "    </tr>\n",
       "    <tr>\n",
       "      <th>5</th>\n",
       "      <td>@sunny051488 @RetirementRight @StealthQE4 Own ...</td>\n",
       "    </tr>\n",
       "    <tr>\n",
       "      <th>6</th>\n",
       "      <td>I'd rather buy 3,017,304 #Bitcoin sats https:/...</td>\n",
       "    </tr>\n",
       "    <tr>\n",
       "      <th>7</th>\n",
       "      <td>Protection of capital should be your first goa...</td>\n",
       "    </tr>\n",
       "    <tr>\n",
       "      <th>8</th>\n",
       "      <td>There is one huge problem in the #crypto marke...</td>\n",
       "    </tr>\n",
       "    <tr>\n",
       "      <th>9</th>\n",
       "      <td>🤝 Follow me on @betfury_io. Let's hunt for Bit...</td>\n",
       "    </tr>\n",
       "  </tbody>\n",
       "</table>\n",
       "</div>"
      ],
      "text/plain": [
       "                                                text\n",
       "0  #Bitcoin Price Drops $1,000 in Worst Sell-Off ...\n",
       "1     Michael Saylor bought the #Bitcoin top top top\n",
       "2  Wed Dec  9 06:37:11 2020 (12:27)\\nUSD : 18,168...\n",
       "3  $BTC Latest Block Info: Block 660586 holds 2,0...\n",
       "4  Hauck &amp; Aufhäuser, one of the oldest banks...\n",
       "5  @sunny051488 @RetirementRight @StealthQE4 Own ...\n",
       "6  I'd rather buy 3,017,304 #Bitcoin sats https:/...\n",
       "7  Protection of capital should be your first goa...\n",
       "8  There is one huge problem in the #crypto marke...\n",
       "9  🤝 Follow me on @betfury_io. Let's hunt for Bit..."
      ]
     },
     "execution_count": 36,
     "metadata": {},
     "output_type": "execute_result"
    }
   ],
   "source": [
    "df.head(10)"
   ]
  },
  {
   "cell_type": "code",
   "execution_count": null,
   "metadata": {},
   "outputs": [],
   "source": []
  }
 ],
 "metadata": {
  "kernelspec": {
   "display_name": "mlenv",
   "language": "python",
   "name": "mlenv"
  },
  "language_info": {
   "codemirror_mode": {
    "name": "ipython",
    "version": 3
   },
   "file_extension": ".py",
   "mimetype": "text/x-python",
   "name": "python",
   "nbconvert_exporter": "python",
   "pygments_lexer": "ipython3",
   "version": "3.7.7"
  }
 },
 "nbformat": 4,
 "nbformat_minor": 4
}
