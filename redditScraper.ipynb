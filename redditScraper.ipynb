{
 "cells": [
  {
   "cell_type": "code",
   "execution_count": 180,
   "metadata": {},
   "outputs": [],
   "source": [
    "# Import dependencies\n",
    "import praw\n",
    "from psaw import PushshiftAPI\n",
    "import pandas as pd\n",
    "import datetime\n",
    "from config import client_id, client_secret, user_agent"
   ]
  },
  {
   "cell_type": "code",
   "execution_count": 181,
   "metadata": {},
   "outputs": [],
   "source": [
    "# Set up API credentials\n",
    "reddit = praw.Reddit(client_id = client_id,\n",
    "                     client_secret = client_secret,\n",
    "                     user_agent = user_agent)\n",
    "api = PushshiftAPI()"
   ]
  },
  {
   "cell_type": "code",
   "execution_count": 182,
   "metadata": {},
   "outputs": [],
   "source": [
    "# Search dates\n",
    "posted_after = int(datetime.datetime(2020, 11, 1).timestamp())\n",
    "posted_before = int(datetime.datetime(2020, 11, 30).timestamp())\n",
    "\n",
    "# Query cryptocurrency subreddit\n",
    "query1 = api.search_comments(subreddit='cryptocurrency',\n",
    "                             q=\"bitcoin|btc\",\n",
    "                             after=posted_after,\n",
    "                             before=posted_before,\n",
    "                             limit=10000)\n",
    "\n",
    "# Query bitcoin subreddit\n",
    "query2 = api.search_comments(subreddit='bitcoin',\n",
    "                             q=\"bitcoin|btc\",\n",
    "                             after=posted_after,\n",
    "                             before=posted_before,\n",
    "                             limit=10000)\n",
    "\n",
    "# Query btc subreddit\n",
    "query3 = api.search_comments(subreddit='btc',\n",
    "                             q=\"bitcoin|btc\",\n",
    "                             after=posted_after,\n",
    "                             before=posted_before,\n",
    "                             limit=10000)"
   ]
  },
  {
   "cell_type": "code",
   "execution_count": 183,
   "metadata": {},
   "outputs": [
    {
     "name": "stdout",
     "output_type": "stream",
     "text": [
      "1000\n"
     ]
    }
   ],
   "source": [
    "# Setup list and add query1 results to it\n",
    "submissions = list()\n",
    "\n",
    "for element in query1:\n",
    "    submissions.append(element.d_)\n",
    "print(len(submissions))"
   ]
  },
  {
   "cell_type": "code",
   "execution_count": 184,
   "metadata": {},
   "outputs": [
    {
     "name": "stdout",
     "output_type": "stream",
     "text": [
      "2000\n"
     ]
    }
   ],
   "source": [
    "# Add query2 results\n",
    "for element in query2:\n",
    "    submissions.append(element.d_)\n",
    "print(len(submissions))"
   ]
  },
  {
   "cell_type": "code",
   "execution_count": 185,
   "metadata": {},
   "outputs": [
    {
     "name": "stdout",
     "output_type": "stream",
     "text": [
      "3000\n"
     ]
    }
   ],
   "source": [
    "# Add query3 results\n",
    "for element in query3:\n",
    "    submissions.append(element.d_)\n",
    "print(len(submissions))"
   ]
  },
  {
   "cell_type": "code",
   "execution_count": 193,
   "metadata": {},
   "outputs": [],
   "source": [
    "# Convert to dataframe\n",
    "df = pd.DataFrame(submissions)"
   ]
  },
  {
   "cell_type": "code",
   "execution_count": 194,
   "metadata": {},
   "outputs": [],
   "source": [
    "# Keep only the needed columns\n",
    "df = df[['id', 'score', 'subreddit', 'body', 'created_utc']]"
   ]
  },
  {
   "cell_type": "code",
   "execution_count": 195,
   "metadata": {},
   "outputs": [
    {
     "data": {
      "text/html": [
       "<div>\n",
       "<style scoped>\n",
       "    .dataframe tbody tr th:only-of-type {\n",
       "        vertical-align: middle;\n",
       "    }\n",
       "\n",
       "    .dataframe tbody tr th {\n",
       "        vertical-align: top;\n",
       "    }\n",
       "\n",
       "    .dataframe thead th {\n",
       "        text-align: right;\n",
       "    }\n",
       "</style>\n",
       "<table border=\"1\" class=\"dataframe\">\n",
       "  <thead>\n",
       "    <tr style=\"text-align: right;\">\n",
       "      <th></th>\n",
       "      <th>id</th>\n",
       "      <th>score</th>\n",
       "      <th>subreddit</th>\n",
       "      <th>body</th>\n",
       "      <th>created_utc</th>\n",
       "    </tr>\n",
       "  </thead>\n",
       "  <tbody>\n",
       "    <tr>\n",
       "      <th>0</th>\n",
       "      <td>ge4omw2</td>\n",
       "      <td>1</td>\n",
       "      <td>CryptoCurrency</td>\n",
       "      <td>I know how you feel. Bitcoin turned me into a ...</td>\n",
       "      <td>1606722416</td>\n",
       "    </tr>\n",
       "    <tr>\n",
       "      <th>1</th>\n",
       "      <td>ge4ogy4</td>\n",
       "      <td>1</td>\n",
       "      <td>CryptoCurrency</td>\n",
       "      <td>They work in different ways depending on the c...</td>\n",
       "      <td>1606722266</td>\n",
       "    </tr>\n",
       "    <tr>\n",
       "      <th>2</th>\n",
       "      <td>ge4ocqr</td>\n",
       "      <td>1</td>\n",
       "      <td>CryptoCurrency</td>\n",
       "      <td>[**Raoul Pal**@RaoulGMI](https://twitter.com/R...</td>\n",
       "      <td>1606722162</td>\n",
       "    </tr>\n",
       "    <tr>\n",
       "      <th>3</th>\n",
       "      <td>ge4nyor</td>\n",
       "      <td>1</td>\n",
       "      <td>CryptoCurrency</td>\n",
       "      <td>Every comment you’ve made so far is getting ma...</td>\n",
       "      <td>1606721809</td>\n",
       "    </tr>\n",
       "    <tr>\n",
       "      <th>4</th>\n",
       "      <td>ge4njbw</td>\n",
       "      <td>0</td>\n",
       "      <td>CryptoCurrency</td>\n",
       "      <td>You know why I won’t use Nano? Same reason why...</td>\n",
       "      <td>1606721420</td>\n",
       "    </tr>\n",
       "  </tbody>\n",
       "</table>\n",
       "</div>"
      ],
      "text/plain": [
       "        id  score       subreddit  \\\n",
       "0  ge4omw2      1  CryptoCurrency   \n",
       "1  ge4ogy4      1  CryptoCurrency   \n",
       "2  ge4ocqr      1  CryptoCurrency   \n",
       "3  ge4nyor      1  CryptoCurrency   \n",
       "4  ge4njbw      0  CryptoCurrency   \n",
       "\n",
       "                                                body  created_utc  \n",
       "0  I know how you feel. Bitcoin turned me into a ...   1606722416  \n",
       "1  They work in different ways depending on the c...   1606722266  \n",
       "2  [**Raoul Pal**@RaoulGMI](https://twitter.com/R...   1606722162  \n",
       "3  Every comment you’ve made so far is getting ma...   1606721809  \n",
       "4  You know why I won’t use Nano? Same reason why...   1606721420  "
      ]
     },
     "execution_count": 195,
     "metadata": {},
     "output_type": "execute_result"
    }
   ],
   "source": [
    "df.head()"
   ]
  },
  {
   "cell_type": "code",
   "execution_count": 196,
   "metadata": {},
   "outputs": [
    {
     "data": {
      "text/html": [
       "<div>\n",
       "<style scoped>\n",
       "    .dataframe tbody tr th:only-of-type {\n",
       "        vertical-align: middle;\n",
       "    }\n",
       "\n",
       "    .dataframe tbody tr th {\n",
       "        vertical-align: top;\n",
       "    }\n",
       "\n",
       "    .dataframe thead th {\n",
       "        text-align: right;\n",
       "    }\n",
       "</style>\n",
       "<table border=\"1\" class=\"dataframe\">\n",
       "  <thead>\n",
       "    <tr style=\"text-align: right;\">\n",
       "      <th></th>\n",
       "      <th>id</th>\n",
       "      <th>score</th>\n",
       "      <th>subreddit</th>\n",
       "      <th>body</th>\n",
       "      <th>datetime</th>\n",
       "    </tr>\n",
       "  </thead>\n",
       "  <tbody>\n",
       "    <tr>\n",
       "      <th>2999</th>\n",
       "      <td>gdgpvjs</td>\n",
       "      <td>1</td>\n",
       "      <td>btc</td>\n",
       "      <td>It seems you're being downvoted by bitcoin cas...</td>\n",
       "      <td>2020-11-24 09:42:11</td>\n",
       "    </tr>\n",
       "    <tr>\n",
       "      <th>2998</th>\n",
       "      <td>gdgpzbm</td>\n",
       "      <td>1</td>\n",
       "      <td>btc</td>\n",
       "      <td>Assuming its an honest question, a LN wallet i...</td>\n",
       "      <td>2020-11-24 09:42:59</td>\n",
       "    </tr>\n",
       "    <tr>\n",
       "      <th>2997</th>\n",
       "      <td>gdgq5te</td>\n",
       "      <td>1</td>\n",
       "      <td>btc</td>\n",
       "      <td>Yup! Losses deduct from your income. https://c...</td>\n",
       "      <td>2020-11-24 09:44:20</td>\n",
       "    </tr>\n",
       "    <tr>\n",
       "      <th>2996</th>\n",
       "      <td>gdgqvq3</td>\n",
       "      <td>2</td>\n",
       "      <td>btc</td>\n",
       "      <td>Then you'll be able to dump your bags and buy ...</td>\n",
       "      <td>2020-11-24 09:49:46</td>\n",
       "    </tr>\n",
       "    <tr>\n",
       "      <th>2995</th>\n",
       "      <td>gdgrg69</td>\n",
       "      <td>1</td>\n",
       "      <td>btc</td>\n",
       "      <td>How is the fact that I bought a gift card make...</td>\n",
       "      <td>2020-11-24 09:54:03</td>\n",
       "    </tr>\n",
       "    <tr>\n",
       "      <th>...</th>\n",
       "      <td>...</td>\n",
       "      <td>...</td>\n",
       "      <td>...</td>\n",
       "      <td>...</td>\n",
       "      <td>...</td>\n",
       "    </tr>\n",
       "    <tr>\n",
       "      <th>2002</th>\n",
       "      <td>ge4os6b</td>\n",
       "      <td>1</td>\n",
       "      <td>btc</td>\n",
       "      <td>That's BTC</td>\n",
       "      <td>2020-11-29 23:49:12</td>\n",
       "    </tr>\n",
       "    <tr>\n",
       "      <th>2001</th>\n",
       "      <td>ge4oycz</td>\n",
       "      <td>1</td>\n",
       "      <td>btc</td>\n",
       "      <td>All the developers work on core tho. The peopl...</td>\n",
       "      <td>2020-11-29 23:51:51</td>\n",
       "    </tr>\n",
       "    <tr>\n",
       "      <th>1001</th>\n",
       "      <td>ge4ozku</td>\n",
       "      <td>1</td>\n",
       "      <td>Bitcoin</td>\n",
       "      <td>Can you tell me how does Monero provides anony...</td>\n",
       "      <td>2020-11-29 23:52:23</td>\n",
       "    </tr>\n",
       "    <tr>\n",
       "      <th>2000</th>\n",
       "      <td>ge4p5ab</td>\n",
       "      <td>1</td>\n",
       "      <td>btc</td>\n",
       "      <td>You know that satoshi and a few other early mi...</td>\n",
       "      <td>2020-11-29 23:54:50</td>\n",
       "    </tr>\n",
       "    <tr>\n",
       "      <th>1000</th>\n",
       "      <td>ge4pguc</td>\n",
       "      <td>1</td>\n",
       "      <td>Bitcoin</td>\n",
       "      <td>Definitely not the best thing about bitcoin!</td>\n",
       "      <td>2020-11-29 23:59:54</td>\n",
       "    </tr>\n",
       "  </tbody>\n",
       "</table>\n",
       "<p>3000 rows × 5 columns</p>\n",
       "</div>"
      ],
      "text/plain": [
       "           id  score subreddit  \\\n",
       "2999  gdgpvjs      1       btc   \n",
       "2998  gdgpzbm      1       btc   \n",
       "2997  gdgq5te      1       btc   \n",
       "2996  gdgqvq3      2       btc   \n",
       "2995  gdgrg69      1       btc   \n",
       "...       ...    ...       ...   \n",
       "2002  ge4os6b      1       btc   \n",
       "2001  ge4oycz      1       btc   \n",
       "1001  ge4ozku      1   Bitcoin   \n",
       "2000  ge4p5ab      1       btc   \n",
       "1000  ge4pguc      1   Bitcoin   \n",
       "\n",
       "                                                   body            datetime  \n",
       "2999  It seems you're being downvoted by bitcoin cas... 2020-11-24 09:42:11  \n",
       "2998  Assuming its an honest question, a LN wallet i... 2020-11-24 09:42:59  \n",
       "2997  Yup! Losses deduct from your income. https://c... 2020-11-24 09:44:20  \n",
       "2996  Then you'll be able to dump your bags and buy ... 2020-11-24 09:49:46  \n",
       "2995  How is the fact that I bought a gift card make... 2020-11-24 09:54:03  \n",
       "...                                                 ...                 ...  \n",
       "2002                                         That's BTC 2020-11-29 23:49:12  \n",
       "2001  All the developers work on core tho. The peopl... 2020-11-29 23:51:51  \n",
       "1001  Can you tell me how does Monero provides anony... 2020-11-29 23:52:23  \n",
       "2000  You know that satoshi and a few other early mi... 2020-11-29 23:54:50  \n",
       "1000       Definitely not the best thing about bitcoin! 2020-11-29 23:59:54  \n",
       "\n",
       "[3000 rows x 5 columns]"
      ]
     },
     "execution_count": 196,
     "metadata": {},
     "output_type": "execute_result"
    }
   ],
   "source": [
    "# Convert to datetime and sort by it\n",
    "df['datetime'] = df['created_utc'].map(lambda t: datetime.datetime.fromtimestamp(t))\n",
    "df = df.drop('created_utc', axis=1)\n",
    "df = df.sort_values(by='datetime')\n",
    "df"
   ]
  },
  {
   "cell_type": "code",
   "execution_count": 197,
   "metadata": {},
   "outputs": [
    {
     "data": {
      "text/plain": [
       "<matplotlib.axes._subplots.AxesSubplot at 0x7fc58b288450>"
      ]
     },
     "execution_count": 197,
     "metadata": {},
     "output_type": "execute_result"
    },
    {
     "data": {
      "image/png": "[encoded data removed]",
      "text/plain": [
       "<Figure size 432x288 with 1 Axes>"
      ]
     },
     "metadata": {
      "needs_background": "light"
     },
     "output_type": "display_data"
    }
   ],
   "source": [
    "# Display # of results by date\n",
    "df.groupby(by=df.datetime.dt.date).count().plot(y='id', rot=45, label='# of submissions')"
   ]
  },
  {
   "cell_type": "code",
   "execution_count": null,
   "metadata": {},
   "outputs": [],
   "source": []
  }
 ],
 "metadata": {
  "kernelspec": {
   "display_name": "mlenv",
   "language": "python",
   "name": "mlenv"
  },
  "language_info": {
   "codemirror_mode": {
    "name": "ipython",
    "version": 3
   },
   "file_extension": ".py",
   "mimetype": "text/x-python",
   "name": "python",
   "nbconvert_exporter": "python",
   "pygments_lexer": "ipython3",
   "version": "3.7.7"
  }
 },
 "nbformat": 4,
 "nbformat_minor": 4
}
